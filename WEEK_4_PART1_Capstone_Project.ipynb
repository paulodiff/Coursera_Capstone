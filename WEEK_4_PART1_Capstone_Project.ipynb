{
  "nbformat": 4,
  "nbformat_minor": 0,
  "metadata": {
    "colab": {
      "name": "WEEK_4_PART1_Capstone_Project.ipynb",
      "provenance": [],
      "collapsed_sections": [],
      "include_colab_link": true
    },
    "kernelspec": {
      "name": "python3",
      "display_name": "Python 3"
    }
  },
  "cells": [
    {
      "cell_type": "markdown",
      "metadata": {
        "id": "view-in-github",
        "colab_type": "text"
      },
      "source": [
        "<a href=\"https://colab.research.google.com/github/paulodiff/Coursera_Capstone/blob/master/WEEK_4_PART1_Capstone_Project.ipynb\" target=\"_parent\"><img src=\"https://colab.research.google.com/assets/colab-badge.svg\" alt=\"Open In Colab\"/></a>"
      ]
    },
    {
      "cell_type": "markdown",
      "metadata": {
        "id": "sPjBjmTxodyN",
        "colab_type": "text"
      },
      "source": [
        "# Week 4 Capstone Project - The Battle of Neighborhoods"
      ]
    },
    {
      "cell_type": "markdown",
      "metadata": {
        "id": "sbB36R7fog8m",
        "colab_type": "text"
      },
      "source": [
        "## Introduction/Business Problem - New restaurant in Rome ?"
      ]
    },
    {
      "cell_type": "markdown",
      "metadata": {
        "id": "x3hVxUtooleV",
        "colab_type": "text"
      },
      "source": [
        "A business man wants open a new restaurant in Rome.\n",
        "\n",
        "**The question is: what better place to start a new restaurant in Rome?**\n",
        "\n",
        "Rome is a big city where millions of tourists come in every month to enjoy a full Italian experience: monuments, lifestyle and – of course – food.\n",
        "\n",
        "In 2018, 15 million tourists visited Rome.\n",
        "\n",
        "Since 1972, the city has been divided into administrative areas, called municipi (sing. municipio).\n",
        "The municipi were originally 20, then 19. \n",
        "In 2013, their number has been reduced to 15.\n",
        "\n",
        "List of desiderata \n",
        "\n",
        "1. How many restaurant is available each municipia ?\n",
        "2. How many similar restaurants are available ?\n",
        "\n",
        "\n"
      ]
    },
    {
      "cell_type": "markdown",
      "metadata": {
        "id": "z82xuC0_qoK-",
        "colab_type": "text"
      },
      "source": [
        "![alt text](https://upload.wikimedia.org/wikipedia/commons/e/eb/Roma_-_Municipi_numerata.png)"
      ]
    },
    {
      "cell_type": "markdown",
      "metadata": {
        "id": "KPeq_cJVvy8M",
        "colab_type": "text"
      },
      "source": [
        ""
      ]
    },
    {
      "cell_type": "markdown",
      "metadata": {
        "id": "EO55utVoqdJ_",
        "colab_type": "text"
      },
      "source": [
        "## Data"
      ]
    },
    {
      "cell_type": "markdown",
      "metadata": {
        "id": "SL53IPkAshzP",
        "colab_type": "text"
      },
      "source": [
        "1. Get Municipia Rome's coordinates from Wikipedia\n",
        "2. Get population's info from Wikipedia\n",
        "2. Get info on other restaurants in Rome with Foursquare.\n"
      ]
    },
    {
      "cell_type": "markdown",
      "metadata": {
        "id": "Hbyf01nstfcT",
        "colab_type": "text"
      },
      "source": [
        "#  How use this data to solve the problem"
      ]
    },
    {
      "cell_type": "markdown",
      "metadata": {
        "id": "4pvNMmdVt3eM",
        "colab_type": "text"
      },
      "source": [
        "1. Collect data from Foursquare\n",
        "2. Clustering data \n",
        "\n"
      ]
    }
  ]
}